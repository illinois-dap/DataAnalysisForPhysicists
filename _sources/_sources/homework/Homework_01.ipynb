{
  "cells": [
    {
      "cell_type": "markdown",
      "metadata": {
        "id": "jQ8ySJSrkq02"
      },
      "source": [
        "# Homework 01: Numerical python and data handling"
      ]
    },
    {
      "cell_type": "code",
      "execution_count": null,
      "metadata": {
        "id": "MgrWkmUUkq03"
      },
      "outputs": [],
      "source": [
        "%matplotlib inline\n",
        "import matplotlib.pyplot as plt\n",
        "import seaborn as sns; sns.set()\n",
        "import numpy as np\n",
        "import pandas as pd\n",
        "import os.path\n",
        "import subprocess"
      ]
    },
    {
      "cell_type": "code",
      "execution_count": null,
      "metadata": {
        "id": "NF8sCwuHkq03"
      },
      "outputs": [],
      "source": [
        "def wget_data(url):\n",
        "    local_path='./tmp_data'\n",
        "    subprocess.run([\"wget\", \"-nc\", \"-P\", local_path, url])"
      ]
    },
    {
      "cell_type": "code",
      "execution_count": null,
      "metadata": {
        "id": "UIavULm7kq04"
      },
      "outputs": [],
      "source": [
        "def locate_data(name, check_exists=True):\n",
        "    local_path='./tmp_data'\n",
        "    path = os.path.join(local_path, name)\n",
        "    if check_exists and not os.path.exists(path):\n",
        "        raise RuxntimeError('No such data file: {}'.format(path))\n",
        "    return path"
      ]
    },
    {
      "cell_type": "markdown",
      "metadata": {
        "id": "HzZb6eUskq04"
      },
      "source": [
        "## Problem 1"
      ]
    },
    {
      "cell_type": "markdown",
      "metadata": {
        "id": "VTbUiUr1kq04"
      },
      "source": [
        "*Part a:*\n",
        "\n",
        "Use matrix multiplication in numpy to multiply x times y and y times x (recalling that matrix multiplication is not commutative).  "
      ]
    },
    {
      "cell_type": "code",
      "execution_count": null,
      "metadata": {
        "deletable": false,
        "editable": false,
        "nbgrader": {
          "checksum": "f91f3472db3a535b4aa76494682b0bbd",
          "grade": true,
          "grade_id": "cell-dc1412e0ed9e3c8f",
          "locked": true,
          "points": 1,
          "schema_version": 1,
          "solution": false
        },
        "id": "TXYJi9BIkq06"
      },
      "outputs": [],
      "source": [
        "# A correct solution should pass these tests.\n",
        "x = np.arange(4).reshape(4,1)\n",
        "y = np.arange(4).reshape(1,4)\n",
        "\n",
        "# x times y\n",
        "\n",
        "\n",
        "assert np.array_equal(\n",
        "    xy,\n",
        "    [[0, 0, 0, 0],\n",
        " [0, 1, 2, 3],\n",
        " [0, 2, 4, 6],\n",
        " [0, 3, 6, 9]])\n",
        "\n",
        "# y times x\n",
        "\n",
        "assert np.array_equal( yx, [[14]])"
      ]
    },
    {
      "cell_type": "markdown",
      "source": [
        "*Part b*\n",
        "\n",
        "Calculate the cross product of vector $\\vec{x}$ with vector $\\vec{y}$.  Show, using the dot product that the resulting vector is perpendicular to both vectors.  Let $\\vec{x}$  = [3, 5, 3]  and  $\\vec{y}$ = [4, 7, 9].\n"
      ],
      "metadata": {
        "id": "1NRxYl_rnRMb"
      }
    },
    {
      "cell_type": "markdown",
      "metadata": {
        "id": "0L2B1vBkkq06"
      },
      "source": [
        "## Problem 2"
      ]
    },
    {
      "cell_type": "markdown",
      "metadata": {
        "id": "yjVGgEMSkq07"
      },
      "source": [
        "Use `np.histogram` to calculate the fraction of values in an arbitrary input data array that lie in each of the 10 intervals \\[0.0, 0.1), \\[0.1, 0.2), ..., \\[0.9, 1.0). You can assume that all input values are in the range \\[0,1). This is a useful technique to estimate the probability density that the data was sampled from."
      ]
    },
    {
      "cell_type": "code",
      "execution_count": null,
      "metadata": {
        "deletable": false,
        "nbgrader": {
          "checksum": "0af6aa7170b9f78496e1dbfd925016db",
          "grade": false,
          "grade_id": "cell-366b67031512bdaa",
          "locked": false,
          "schema_version": 1,
          "solution": true
        },
        "id": "f6h7lOoMkq07"
      },
      "outputs": [],
      "source": [
        "def estimate_probability_density(data, bins):\n",
        "    \"\"\"Estimate the probability density of arbitrary data.\n",
        "\n",
        "    Parameters\n",
        "    ----------\n",
        "    data : array\n",
        "        1D numpy array of random values.\n",
        "    bins : array\n",
        "        1D numpy array of N+1 bin edges to use. Must be increasing.\n",
        "\n",
        "    Returns\n",
        "    -------\n",
        "    array\n",
        "        1D numpy array of N probability densities.\n",
        "    \"\"\"\n",
        "    assert np.all(np.diff(bins) > 0)\n",
        "\n",
        "    # YOUR CODE HERE\n",
        "    raise NotImplementedError()"
      ]
    },
    {
      "cell_type": "code",
      "execution_count": null,
      "metadata": {
        "deletable": false,
        "editable": false,
        "nbgrader": {
          "checksum": "f5029940f395172b2bbf68f048632eec",
          "grade": true,
          "grade_id": "cell-3add23f80d497553",
          "locked": true,
          "points": 1,
          "schema_version": 1,
          "solution": false
        },
        "id": "wfJghB1qkq07"
      },
      "outputs": [],
      "source": [
        "# A correct solution should pass these tests.\n",
        "generator = np.random.RandomState(seed=123)\n",
        "data = generator.uniform(size=100)\n",
        "bins = np.linspace(0., 1., 11)\n",
        "rho = estimate_probability_density(data, bins)\n",
        "assert np.allclose(0.1 * rho.sum(), 1.)\n",
        "assert np.allclose(rho, [ 0.6,  0.8,  0.7,  1.7,  1.1,  1.3,  1.6,  0.9,  0.8,  0.5])"
      ]
    },
    {
      "cell_type": "markdown",
      "metadata": {
        "id": "cP1ug7z6kq08"
      },
      "source": [
        "## Problem 3"
      ]
    },
    {
      "cell_type": "markdown",
      "metadata": {
        "id": "AgGEF1mvkq08"
      },
      "source": [
        "Define a function to calculate the [entropy](https://en.wikipedia.org/wiki/Entropy_estimation) $H(\\rho)$ of a binned probability density, defined as:\n",
        "$$\n",
        "H(\\rho) \\equiv -\\sum_i \\rho_i \\log(\\rho_i) \\Delta w_i \\; ,\n",
        "$$\n",
        "where $\\rho_i$ is the binned density in bin $i$ with width $w_i$."
      ]
    },
    {
      "cell_type": "code",
      "execution_count": null,
      "metadata": {
        "deletable": false,
        "nbgrader": {
          "checksum": "cdacb2d2924ff83259b567883a4832d0",
          "grade": false,
          "grade_id": "cell-49d830408cabc403",
          "locked": false,
          "schema_version": 1,
          "solution": true
        },
        "id": "H19WpOtBkq08"
      },
      "outputs": [],
      "source": [
        "def binned_entropy(rho, bins):\n",
        "    \"\"\"Calculate the binned entropy.\n",
        "\n",
        "    Parameters\n",
        "    ----------\n",
        "    rho : array\n",
        "        1D numpy array of densities, e.g., calculated by the previous function.\n",
        "    bins : array\n",
        "        1D numpy array of N+1 bin edges to use. Must be increasing.\n",
        "\n",
        "    Returns\n",
        "    -------\n",
        "    float\n",
        "        Value of the binned entropy.\n",
        "    \"\"\"\n",
        "    assert np.all(np.diff(bins) > 0)\n",
        "\n",
        "    # YOUR CODE HERE\n",
        "    raise NotImplementedError()"
      ]
    },
    {
      "cell_type": "code",
      "execution_count": null,
      "metadata": {
        "deletable": false,
        "editable": false,
        "nbgrader": {
          "checksum": "2de813a17b08d4d867107f8c4d1b1cee",
          "grade": true,
          "grade_id": "cell-7672bc6e182b3f89",
          "locked": true,
          "points": 1,
          "schema_version": 1,
          "solution": false
        },
        "id": "Otej68Rdkq08"
      },
      "outputs": [],
      "source": [
        "# A correct solution should pass these tests.\n",
        "generator = np.random.RandomState(seed=123)\n",
        "data1 = generator.uniform(size=10000)\n",
        "data2 = generator.uniform(size=10000) ** 4\n",
        "bins = np.linspace(0., 1., 11)\n",
        "rho1 = estimate_probability_density(data1, bins)\n",
        "rho2 = estimate_probability_density(data2, bins)\n",
        "H1 = binned_entropy(rho1, bins)\n",
        "H2 = binned_entropy(rho2, bins)\n",
        "assert np.allclose(H1, -0.000801544)\n",
        "assert np.allclose(H2, -0.699349908)"
      ]
    },
    {
      "cell_type": "markdown",
      "metadata": {
        "id": "uxwpedWskq08"
      },
      "source": [
        "## Problem 4"
      ]
    },
    {
      "cell_type": "markdown",
      "metadata": {
        "id": "f8Xc7hRckq08"
      },
      "source": [
        "Define a function that reads `pong_data.hf5` and returns a new subset DataFrame containing only the columns `x5`, `y5`, `x7`, `y7` (**in that order**) and only the last 200 rows."
      ]
    },
    {
      "cell_type": "code",
      "execution_count": null,
      "metadata": {
        "id": "OGBpHPXdkq08"
      },
      "outputs": [],
      "source": [
        "wget_data('https://courses.physics.illinois.edu/phys398dap/fa2023/data/pong_data.hf5')"
      ]
    },
    {
      "cell_type": "code",
      "execution_count": null,
      "metadata": {
        "deletable": false,
        "nbgrader": {
          "checksum": "0e05585740687be735277fb545caa381",
          "grade": false,
          "grade_id": "cell-0cae4a532ac8ed42",
          "locked": false,
          "schema_version": 1,
          "solution": true
        },
        "id": "fJ1Adwi8kq08"
      },
      "outputs": [],
      "source": [
        "def create_subset():\n",
        "    \"\"\"Read pong_data.hf5 and return a subset.\n",
        "    \"\"\"\n",
        "    # YOUR CODE HERE\n",
        "    raise NotImplementedError()"
      ]
    },
    {
      "cell_type": "code",
      "execution_count": null,
      "metadata": {
        "deletable": false,
        "editable": false,
        "nbgrader": {
          "checksum": "38f3af71e1904885fe03f432dd55f281",
          "grade": true,
          "grade_id": "cell-30143518143c64b1",
          "locked": true,
          "points": 1,
          "schema_version": 1,
          "solution": false
        },
        "id": "TKGLtTSPkq08"
      },
      "outputs": [],
      "source": [
        "# A correct solution should pass these tests.\n",
        "subset = create_subset()\n",
        "assert np.array_equal(subset.columns.values, ('x5', 'y5', 'x7', 'y7'))\n",
        "assert len(subset) == 200\n",
        "summary = subset.describe()\n",
        "assert np.allclose(summary.loc['mean', :].values,\n",
        "                   [ 0.43564752,  0.30610958,  0.57520991,  0.21383226])"
      ]
    },
    {
      "cell_type": "markdown",
      "source": [
        "##Problem 5\n",
        "\n",
        "*Part a*\n",
        "\n",
        "Write a function which uses np.random to make a data frame with N rows and two columns, \"index\" which is just the row number and \"y\" which is a random value. Find all ordered pairs of y (i.e. 3,4 and 4,3 would be distinct pairs) and put them in a list.  Do this two ways:\n",
        "\n",
        " * Method 1: using nested for loops to go through each element in the list\n",
        " * Method 2: using the itertools package (https://docs.python.org/3/library/itertools.html).\n",
        "\n"
      ],
      "metadata": {
        "id": "hyjCOKEPneUc"
      }
    },
    {
      "cell_type": "code",
      "source": [],
      "metadata": {
        "id": "aJ4NMp9cf9yh"
      },
      "execution_count": null,
      "outputs": []
    },
    {
      "cell_type": "markdown",
      "source": [
        "*Part b*\n",
        "\n",
        "Run the function for N = 50. Show that the lists for the two methods are the same length and contain the same pairs.\n",
        "\n"
      ],
      "metadata": {
        "id": "p2_92zZOf-W8"
      }
    },
    {
      "cell_type": "code",
      "source": [],
      "metadata": {
        "id": "WUD-TPz5gDzE"
      },
      "execution_count": null,
      "outputs": []
    },
    {
      "cell_type": "markdown",
      "source": [
        "*Part c*\n",
        "\n",
        "Use the time package to measure the time for each method of generating permuations for N = 2, 5, 10, 100, 500, 1000, 5000.\n",
        "\n"
      ],
      "metadata": {
        "id": "ilKt2_iqgE_l"
      }
    },
    {
      "cell_type": "code",
      "source": [],
      "metadata": {
        "id": "pF7RUBWzgIyl"
      },
      "execution_count": null,
      "outputs": []
    },
    {
      "cell_type": "markdown",
      "source": [
        "*Part d*\n",
        "\n",
        "Make a plot showing the run time (on the y-axis) for each method as a function of N (on the x-axis).  Make sure to label the plot.  What do you see?"
      ],
      "metadata": {
        "id": "VkeWE5E8gJHo"
      }
    },
    {
      "cell_type": "code",
      "source": [],
      "metadata": {
        "id": "hNl551F_gLnz"
      },
      "execution_count": null,
      "outputs": []
    }
  ],
  "metadata": {
    "kernelspec": {
      "display_name": "Python 3",
      "language": "python",
      "name": "python3"
    },
    "language_info": {
      "codemirror_mode": {
        "name": "ipython",
        "version": 3
      },
      "file_extension": ".py",
      "mimetype": "text/x-python",
      "name": "python",
      "nbconvert_exporter": "python",
      "pygments_lexer": "ipython3",
      "version": "3.11.2"
    },
    "colab": {
      "provenance": []
    }
  },
  "nbformat": 4,
  "nbformat_minor": 0
}