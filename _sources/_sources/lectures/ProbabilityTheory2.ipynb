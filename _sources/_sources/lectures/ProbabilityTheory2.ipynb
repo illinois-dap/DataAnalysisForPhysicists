{
 "cells": [
  {
   "cell_type": "code",
   "execution_count": null,
   "id": "8c0ad3e4",
   "metadata": {},
   "outputs": [],
   "source": [
    "%matplotlib inline\n",
    "from scipy import stats\n",
    "from scipy.stats import norm\n",
    "import matplotlib.pyplot as plt\n",
    "#import seaborn as sns; sns.set()\n",
    "import numpy as np\n",
    "import pandas as pd"
   ]
  },
  {
   "cell_type": "markdown",
   "id": "e4597c15",
   "metadata": {},
   "source": [
    "## <span style=\"color:Orange\">Bayes' Rule</span>\n",
    "\n",
    "$$ \\Large\n",
    "\\boxed{\n",
    "P(A\\mid B) = P(B\\mid A) \\frac{P(A)}{P(B)}\\; ,}\n",
    "$$\n",
    "\n",
    "\n",
    "So, $P(A\\mid B) \\ll P(B\\mid A)$ when $P(A) \\ll P(B)$. However, there is a [natural tendency](https://en.wikipedia.org/wiki/Confusion_of_the_inverse) to assume that $P(A\\mid B) \\simeq P(B\\mid A)$ in informal reasoning, so be careful!\n",
    "\n",
    "This relationship between $P(A\\mid B)$ and $P(B\\mid A)$ is known as **Bayes' rule**.  Although there is some controversy and debate surrounding *Bayesian statistics*, Bayes' rule follows directly from the definition of conditional probability and is firmly established.  (The Bayesian controversy, which we will discuss later, is over what constitutes a valid $A$ or $B$)."
   ]
  },
  {
   "cell_type": "markdown",
   "id": "060c973b",
   "metadata": {},
   "source": [
    "If $A_1...A_N$ are exclusive and exhaustive (meaning that each event must belong to one and only one $A_i$, then we can write Bayes Theorem as \n",
    "$$ \\Large\n",
    "\\boxed{\n",
    "P(A\\mid B) \\equiv \\frac{P(A\\cap B)}{\\Sigma_{i}P(B|A_i)P(A_i)}} \\;.\n",
    "$$\n"
   ]
  },
  {
   "cell_type": "markdown",
   "id": "d41e3352",
   "metadata": {},
   "source": [
    "## <span style=\"color:Orange\">Example #1</span>\n",
    "\n",
    "We have a disease that is carried by fraction X of the population: $P(disease) = X$ and $P(no disease) = 1.0-X$.  You make a test for the disease and it yields a positive result fraction Y of the time when a person has the disease: $P(+|disease) = Y$ and $P(-|disease) = 1.0 - Y$.  $Y$ is pretty big so you feel pretty good!"
   ]
  },
  {
   "cell_type": "markdown",
   "id": "ec4355b9",
   "metadata": {},
   "source": [
    "However, your test has a false positive fraction of $Z$.  $Z$ is small so you feel OK.  Just to be clear $P(+|no disease) = Z$ and $P(-|no disease) = 1.0 - Z$.  *So the question is if a person gets a positive test result, what are the chances they have the disease?*"
   ]
  },
  {
   "cell_type": "code",
   "execution_count": null,
   "id": "1d643360",
   "metadata": {},
   "outputs": [],
   "source": [
    "X = 0.01 # P(disease) rare disease\n",
    "Y = 0.99 # P(+|disease) excellent test\n",
    "Z = 0.04 # P(+|no disease) modest false positive result\n",
    "\n",
    "#using the summed form of Bayes' Theorem above\n",
    "\n",
    "val = Y * X / ((Y * X) + (Z*(1-X))) # val = P(disease|+)\n",
    "print(val)"
   ]
  },
  {
   "attachments": {},
   "cell_type": "markdown",
   "id": "f0142de6",
   "metadata": {},
   "source": [
    "## <span style=\"color:Orange\">Example #2</span>\n",
    "\n",
    "Jets are the observables particles from the scattering of two quarks or gluons.  They are a rare process in collisions between two protons or two nuclei.  Due to momentum conservation, they are dominantly created back-to-back.  \n",
    "\n",
    "Because of this, observing one jet makes it more likely, you'll observe a second one....the conditional probability for observing a second jet, given a first is larger than the probability for observing a single jet.\n",
    "\n",
    "Take a look at a dijet here: https://cds.cern.ch/record/2669151/files/ATLAS_Experiment_dijet_event.png?subformat=icon-640\n",
    "\n",
    "I generated a bunch of dijet (two jet) events using PYTHIA (a Monte Carlo event generator for proton-proton collisions) and plotted both the momentum of the top two jets in events and the single jet momentum distribution.  \n",
    "\n",
    "My PYTHIA generation code outputs ROOT files.  ROOT is a binary file format and so getting it into google colab is a bit of an adventure...."
   ]
  },
  {
   "cell_type": "code",
   "execution_count": null,
   "id": "5b31107a",
   "metadata": {},
   "outputs": [],
   "source": [
    "!pip install uproot\n",
    "!pip install mplhep\n",
    "!pip install hist\n",
    "import uproot\n",
    "import hist\n",
    "import matplotlib.pyplot as plt\n",
    "import matplotlib as mpl\n",
    "import os.path\n",
    "import subprocess\n"
   ]
  },
  {
   "cell_type": "code",
   "execution_count": null,
   "id": "044f5ff3",
   "metadata": {},
   "outputs": [],
   "source": [
    "def wget_data(url):\n",
    "    local_path='./tmp_data'\n",
    "    subprocess.run([\"wget\", \"-nc\", \"-P\", local_path, url])"
   ]
  },
  {
   "cell_type": "code",
   "execution_count": null,
   "id": "748a6430",
   "metadata": {},
   "outputs": [],
   "source": [
    "wget_data('https://courses.physics.illinois.edu/phys398dap/fa2023/data/com_5020_minpt_30_merged.root')\n",
    "file = uproot.open(\"tmp_data/com_5020_minpt_30_merged.root\")\n",
    "h =file[\"hpt1pt2\"].to_hist()\n",
    "hpt =file[\"hpt\"].to_hist()"
   ]
  },
  {
   "cell_type": "markdown",
   "id": "f3df32ec",
   "metadata": {},
   "source": [
    "The ROOT file contains two histograms.  \"hpt\" is a 1D histogram of the inclusive (no conditions) jet momentum spectrum.  \"hpt1pt2\" contains a 2D histogram of the highest two momentum jets in an event, if the highest momentum jet has a momentum of more than 120 GeV and there is a second jet with more than 50 GeV.  "
   ]
  },
  {
   "cell_type": "code",
   "execution_count": null,
   "id": "3ad99e18",
   "metadata": {},
   "outputs": [],
   "source": [
    "fig, axs = plt.subplots(1, 1, figsize=(10, 10))\n",
    "\n",
    "#h.project(\"xaxis\").plot(ax=axs[0])\n",
    "hy = h.project(\"yaxis\")\n",
    "hx = h.project(\"xaxis\")\n",
    "h.project(\"xaxis\", \"yaxis\").plot()\n",
    "plt.show()"
   ]
  },
  {
   "cell_type": "markdown",
   "id": "954626bb",
   "metadata": {},
   "source": [
    "This is not great, but I was unable to figure out how to change the axis labels(!).  Below we will take a projection of the 2D histogram and compare it to the non-conditional histogram \"hpt\".  They look pretty different."
   ]
  },
  {
   "cell_type": "code",
   "execution_count": null,
   "id": "43057693",
   "metadata": {},
   "outputs": [],
   "source": [
    "fig, axs = plt.subplots(1, 2, figsize=(10, 4))\n",
    "\n",
    "hy.plot(ax=axs[0],density=True)\n",
    "hpt.plot(ax=axs[1],density=True)"
   ]
  },
  {
   "cell_type": "code",
   "execution_count": null,
   "id": "5ea729b2",
   "metadata": {},
   "outputs": [],
   "source": []
  }
 ],
 "metadata": {
  "kernelspec": {
   "display_name": "Python 3 (ipykernel)",
   "language": "python",
   "name": "python3"
  },
  "language_info": {
   "codemirror_mode": {
    "name": "ipython",
    "version": 3
   },
   "file_extension": ".py",
   "mimetype": "text/x-python",
   "name": "python",
   "nbconvert_exporter": "python",
   "pygments_lexer": "ipython3",
   "version": "3.9.6"
  }
 },
 "nbformat": 4,
 "nbformat_minor": 5
}
