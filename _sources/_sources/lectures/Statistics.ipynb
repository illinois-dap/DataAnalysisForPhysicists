{
  "cells": [
    {
      "cell_type": "markdown",
      "metadata": {
        "id": "bSl_Py-HA7Kp"
      },
      "source": [
        "## Statistics"
      ]
    },
    {
      "cell_type": "code",
      "execution_count": null,
      "metadata": {
        "id": "p9LM_dqVA7Kq"
      },
      "outputs": [],
      "source": [
        "%matplotlib inline\n",
        "import matplotlib.pyplot as plt\n",
        "import seaborn as sns; sns.set()\n",
        "import numpy as np\n",
        "import pandas as pd\n",
        "import os\n",
        "import subprocess\n",
        "from random import gauss\n",
        "import scipy.stats\n",
        "from scipy.stats import moment\n",
        "from scipy.stats import poisson\n",
        "\n"
      ]
    },
    {
      "cell_type": "code",
      "execution_count": null,
      "metadata": {
        "id": "X1XHv4i_A7Ks"
      },
      "outputs": [],
      "source": [
        "import scipy.stats\n",
        "from scipy.stats import moment"
      ]
    },
    {
      "cell_type": "markdown",
      "metadata": {
        "id": "ZleQWXDyA7Kt"
      },
      "source": [
        "Data helpers"
      ]
    },
    {
      "cell_type": "code",
      "execution_count": null,
      "metadata": {
        "id": "NcUcL5wyA7Kt"
      },
      "outputs": [],
      "source": [
        "def wget_data(url):\n",
        "    local_path='./tmp_data'\n",
        "    subprocess.run([\"wget\", \"-nc\", \"-P\", local_path, url])\n",
        "\n",
        "def locate_data(name, check_exists=True):\n",
        "    local_path='./tmp_data'\n",
        "    path = os.path.join(local_path, name)\n",
        "    if check_exists and not os.path.exists(path):\n",
        "        raise RuxntimeError('No such data file: {}'.format(path))\n",
        "    return path"
      ]
    },
    {
      "cell_type": "markdown",
      "metadata": {
        "id": "NTHsISw4A7Kt"
      },
      "source": [
        "## <span style=\"color:Orange\">Get Data</span>"
      ]
    },
    {
      "cell_type": "code",
      "execution_count": null,
      "metadata": {
        "id": "PmI4XfRDA7Ku"
      },
      "outputs": [],
      "source": [
        "wget_data('https://courses.physics.illinois.edu/phys398dap/fa2023/data/blobs_data.hf5')"
      ]
    },
    {
      "cell_type": "markdown",
      "metadata": {
        "id": "YF5JrLKKA7Ku"
      },
      "source": [
        "## <span style=\"color:Orange\">Load Data</span>"
      ]
    },
    {
      "cell_type": "code",
      "execution_count": null,
      "metadata": {
        "id": "zEZlnMysA7Kv"
      },
      "outputs": [],
      "source": [
        "blobs = pd.read_hdf(locate_data('blobs_data.hf5'))\n"
      ]
    },
    {
      "cell_type": "markdown",
      "metadata": {
        "id": "6o5vcWOsA7Kv"
      },
      "source": [
        "## <span style=\"color:Orange\">Statistical Methods</span>"
      ]
    },
    {
      "cell_type": "markdown",
      "metadata": {
        "id": "pWgrPN76A7Kv"
      },
      "source": [
        "The boundary between probability and statistics is somewhat gray (similar to astronomy and astrophysics).  However, you can roughly think of statistics as the applied cousin of probability theory.\n",
        "\n",
        "Today we're going to discuss the basics of characterizing a dataset in one or more dimensions using moments.  These include things that you are probably reasonably familiar with, like the standard deviation and the mean and others that are probably farther from your experience.\n",
        "\n",
        "In many areas of science these are important.  For example:\n",
        "- Sometimes you just don't have a model for what a distribution should be and so you just start characterizing it using moments (often starting with the mean and standard deviation).  \n",
        "\n",
        "- Other times you have a model, but the data aren't perfect...maybe you've got a lot of background or other noise\n",
        "\n",
        "- in the case of multiple variables, perhaps you want to understand how two (or more) quantities are correlated\n"
      ]
    },
    {
      "cell_type": "markdown",
      "metadata": {
        "id": "5HgrwConA7Kw"
      },
      "source": [
        "### <span style=\"color:LightGreen\">Expectation Values</span>"
      ]
    },
    {
      "cell_type": "markdown",
      "metadata": {
        "id": "2r4-FzQXA7Kw"
      },
      "source": [
        "Given a probability density $P(x)$, and an arbitrary function $g(x)$ of the same random variables, the **expectation value** of $g$ is defined as:\n",
        "\n",
        "$$ \\Large\n",
        "\\langle g\\rangle \\equiv \\int_{-\\infty}^{\\infty} dx g(x) P(x) \\; .\n",
        "$$\n",
        "\n",
        "Note that the result is just a number. Also, $g$ might have dimensions, which do not need to match those of the probability density $P$, so $\\langle g\\rangle$ generally has dimensions.  All of the integrals here are over the entire range that $P(x)$ is defined, in general that is\n",
        "$-\\infty < x < \\infty$, but of course some distributions are defined over a more restrictive range of $x$; the\n",
        "integration ranges will be left off from here on out  just to simplify the equations.\n",
        "\n",
        "Sometimes the assumed PDF is indicated with a subscript, $\\langle g\\rangle_P$, which is helpful, but more often not shown.\n",
        "\n",
        "**Raw Moments**\n",
        "\n",
        "When $g(x) = x^n$, the resulting expectation value is called a **raw moment of x** and low order values have names:\n",
        "  \n",
        "  - $n=0$, $\\langle g\\rangle \\equiv \\int x^0 dx P(x) \\;$ is just unity\n",
        "  - $n=1$ **mean of x**, $\\overline{x} \\equiv \\langle x\\rangle  \\equiv \\int x dx P(x) \\;$.\n",
        "  - $n=2$ **root-mean square (RMS) of x**, $\\langle x^2\\rangle \\equiv \\int x^2 dx P(x) \\;$.\n",
        "\n",
        "The raw moments can be defined in a similar way for any positive integer power of $x$.\n",
        "\n",
        "**Central Moments**\n",
        "\n",
        "Additionally, it is useful to define moments centered about the mean\n",
        " of the distribution.  These **central moments** of order $n$ are defined as above with $g(x) = \\langle (x - \\overline{x})^n \\rangle$.  The $n=1$ central moment is always 0.\n",
        "\n",
        " The\n",
        " $n=2$ central moment is the **variance of x**, which combines the mean and RMS,\n",
        "\n",
        "$$ \\Large\n",
        "\\sigma_x^2 \\equiv \\langle\\left( x - \\overline{x} \\right)^2\\rangle \\; ,\n",
        "$$\n",
        "\n",
        "where $\\sigma_x$ is called the **standard deviation of x** or the width (as we will see the standard deviation of a Gaussian is the width parameter).\n",
        "\n"
      ]
    },
    {
      "cell_type": "markdown",
      "metadata": {
        "id": "VNsu69-UDezV"
      },
      "source": [
        "**Characterization of Measurements**\n",
        "\n",
        "The mean and standard deviations are among the most used quantities in physics.  If you know these quantities about a single dimensional dataset, then you actually know quite a lot, regardless of the details of the distribution itself.  \n",
        "\n",
        "The standard deviation divided by the mean is a usual way of quantifying the precision of a measurement.  For example, in high-energy physics, a calorimeter is a device for measuring\n",
        "particle energy.  \n",
        "- Here is a paper about a calorimeter built at Illinois showing the mean energy measured as a function of the particle energy and showing the\n",
        "standard deviation of the measured energy distribution divided by the mean: https://arxiv.org/pdf/2003.13685.pdf (Fig. 8).  \n",
        "- To go back to the QCD jets from a couple weeks ago, here is a paper showing the mean energy response of the ATLAS calorimeters to jets (the \"JES\") and the standard deviation divided by the mean (the \"JER\") https://arxiv.org/pdf/2205.00682.pdf (Fig. 1)."
      ]
    },
    {
      "cell_type": "markdown",
      "metadata": {
        "id": "vMWeC_qxA7Kx"
      },
      "source": [
        "**Standardized Moments**\n",
        "\n",
        "Finally, standardized moments can be defined.  These are central moments normalized by powers of the standard deviation:\n",
        "$$ \\Large\n",
        " \\tilde{x}_N \\equiv \\langle\\left( x - \\overline{x} \\right)^n\\rangle / \\sigma_{x}^n \\; ,\n",
        "$$\n",
        "This makes them scale-invarient and unitless.  Thus they provide some information about the shape of the distribution:\n",
        "\n",
        "- $n = 1$: The first standard moment, $\\tilde{x}_1$ is 0 (just like the $n=1$ central moment).  \n",
        "\n",
        "- $n = 2$: The second standard moment is 1.  \n",
        "\n",
        "- $n = 3$: *skewness* The skewness of a distribution can be positive, negative or zero.  A distribution that is symmetric about the mean will have zero skewness.\n",
        "\n",
        "- $n = 4$: *kurtosis*  The kurtosis measures the contributions from the tails of the distribution.\n",
        "\n",
        " The standard deviation, skewness and kurtosis are useful in that they enable characterization of a distribution without having a specific functional form.  In many real life cases this is very useful because there isn't a clear cut choice for the functional form, because it is useful to not have to resort to fitting to describe a distribution, or because there are various types of background in a distribution.\n",
        "\n",
        " However, in the majority of cases the standard deviation is *far* more useful than any of the standarized moments.\n",
        "\n",
        " **Warning**: there are a few different definitions of some of these observables running around.  Always check before blindly using a piece of code or a formula.  scipy.stats moments (https://docs.scipy.org/doc/scipy/reference/generated/scipy.stats.moment.html) calculates **central moments** not the standard moments.  You should check that you get the answer you expect for a known test case too.\n",
        "\n",
        "\n"
      ]
    },
    {
      "cell_type": "markdown",
      "source": [
        "**Some Important Moments of Common Distributions**\n",
        "\n",
        "These are some important moments; this is clearly not a complete list, it's just ones that are particularily useful to be aware of.  For all the distributions, the means and variances are listed and for the Gaussian, a couple more are of interest.  The integrals have been written out but not worked through.\n",
        "\n",
        "*Gaussian*\n",
        "\n",
        "Because of its ubiquity, the moments of a Gaussian turn up a lot and are worth keeping on hand.  \n",
        "\n",
        "$$\\Large P(x; \\mu, \\sigma) = \\frac{1}{{\\sigma \\sqrt{2\\pi}}} \\exp\\left(-\\frac{(x - \\mu)^2}{2\\sigma^2}\\right)$$\n",
        "\n",
        "so the mean is:\n",
        "\n",
        "$$\\Large \\langle x\\rangle  = \\int  dx \\frac{x}{{\\sigma \\sqrt{2\\pi}}} \\exp\\left(-\\frac{(x - \\mu)^2}{2\\sigma^2}\\right) \\;$$\n",
        "\n",
        "$$\\Large \\langle x\\rangle  = \\mu$$\n",
        "obviously.\n",
        "\n",
        "The second central moment, the variance, is also significant in the Gaussian:\n",
        "\n",
        "$$\\Large \\langle \\left(x-\\langle x \\rangle \\right)^2\\rangle  = \\int  dx \\frac{\\left(x-\\langle x \\rangle\\right)^2}{{\\sigma \\sqrt{2\\pi}}} \\exp\\left(-\\frac{(x - \\mu)^2}{2\\sigma^2}\\right) \\;$$\n",
        "\n",
        "$$\\Large \\langle \\left(x-\\langle x \\rangle \\right)^2\\rangle  = \\sigma^2$$\n",
        "\n",
        "\n",
        "The skewness of a Gaussian should be zero because it\n",
        "is symmetric about the mean:\n",
        "$$ \\Large\n",
        " \\langle\\left( x - \\overline{x} \\right)^3\\rangle / \\sigma^3 \\; =  \\frac{1}{\\sigma^3}\\int  dx \\frac{\\left(x-\\mu\\right)^3}{{\\sigma \\sqrt{2\\pi}}} \\exp\\left(-\\frac{(x - \\mu)^2}{2\\sigma^2}\\right) \\;\n",
        "$$\n",
        "\n",
        "$$\\Large \\langle\\left( x - \\overline{x} \\right)^3\\rangle / \\sigma^3 \\; = 0$$\n",
        "\n",
        "The kurtosis of a Gaussian:\n",
        "$$ \\Large\n",
        " \\langle\\left( x - \\overline{x} \\right)^4\\rangle / \\sigma^4 \\; =  \\frac{1}{\\sigma^4}\\int  dx \\frac{\\left(x-\\mu\\right)^4}{{\\sigma \\sqrt{2\\pi}}} \\exp\\left(-\\frac{(x - \\mu)^2}{2\\sigma^2}\\right) \\;\n",
        "$$\n",
        "\n",
        "$$\\Large \\langle\\left( x - \\overline{x} \\right)^4\\rangle / \\sigma^4 \\; = 3$$\n",
        "\n",
        "Often a quantity *excess kurtosis* which is $\\langle\\left( x - \\overline{x} \\right)^4\\rangle / \\sigma^4 - 3$ is\n",
        "defined.  This provides a simple measure of how the tails of the distribution compare to that of a Gaussian, positive values of the excess kurtosis mean the tails\n",
        "are heavier than a Gaussian, whereas negative values mean\n",
        "the tails are weaker than a Gaussian.\n",
        "\n",
        "\n",
        "\n",
        "*Poisson Distribution*\n",
        "\n",
        "The moments can be defined for discrete distributions like the Poisson distribution.  Recall the discrete PDF for a Poisson is this:\n",
        "$$\\Large P(k; \\lambda) = \\frac{e^{-\\lambda} \\lambda^k}{k!}$$ and it has a single parameter $\\lambda$.\n",
        "\n",
        "Since the distribution is discrete, the integral becomes a sum:\n",
        "\n",
        "$$\\Large \\langle x \\rangle = \\sum_{k = 0}^{\\infty} k \\frac{e^{-\\lambda} \\lambda^k}{k!} = \\lambda$$\n",
        "\n",
        "The variance is:\n",
        "$$\\Large \\langle \\left( x - \\langle x \\rangle \\right)^2  \\rangle = \\sum_{k = 0}^{\\infty} \\left( k - \\lambda\\right)^2 \\frac{e^{-\\lambda} \\lambda^k}{k!} = \\lambda$$\n",
        "\n",
        "Unlike the Gaussian where the mean and variance are independent, in the Poisson they are the same. Often\n",
        "it is interesting to characterize the *relative width*\n",
        "of a distribution, $\\sigma / \\mu$.  For a Gaussian,\n",
        "this quantity can be anything because $\\sigma$ and $\\mu$\n",
        "are independent, but for a Poisson, this quantity is a function of $\\lambda$ only and is always $1/\\sqrt{\\lambda}$.  The relative width of a Poisson decreases\n",
        "with increasing $\\lambda$.\n",
        "\n",
        "*Uniform Distribution*\n",
        "\n",
        "For the uniform distribution:\n",
        "$$\\Large\n",
        "f(x;a) =\n",
        "\\begin{cases}\n",
        "\\frac{1}{a} & 0 \\leq x \\leq a \\\\\n",
        "0 & otherwise\n",
        "\\end{cases}\n",
        "$$\n",
        "the mean is trivial: $\\langle x \\rangle = a / 2$.\n",
        "\n",
        "The variance is a little more interesting:\n",
        "$$\\Large \\langle \\left(x- a/2 \\right)^2\\rangle  = \\int_{0}^{a} \\left(x- a/2 \\right)^2 \\frac{dx}{a} \\;$$\n",
        "$$\\Large \\langle \\left(x- a/2 \\right)^2\\rangle  = \\frac{a^2}{12}.$$\n",
        "\n",
        "\n",
        "\n",
        "\n",
        "\n",
        "\n",
        "*$\\chi^2$ Distribution*\n",
        "\n",
        "Recall the $\\chi^2$ distribution:\n",
        "$$\\Large f(x;n) = \\frac{1}{{2^{n/2}\\Gamma(n/2)}} x^{(n/2)-1} e^{-x/2}$$\n",
        "\n",
        "This distribution shows up in fitting distributions (which we'll see in Week 6), and it's worth understanding\n",
        "the mean and variance of this distribution.  Here the mean:\n",
        "$$\\Large \\langle x\\rangle  = \\int  dx \\frac{x}{{2^{n/2}\\Gamma(n/2)}} x^{(n/2)-1} e^{-x/2}\\;$$\n",
        "\n",
        "$$\\Large \\langle x \\rangle = n$$\n",
        "\n",
        "$$\\Large \\langle \\left( x - \\langle x \\rangle \\right)^2\\rangle  = \\int  dx \\frac{x^{(n/2)-1}}{{2^{n/2}\\Gamma(n/2)}} \\left( x - n\\right)^2  e^{-x/2}\\;$$\n",
        "$$\\Large \\langle \\left( x - \\langle x \\rangle \\right)^2\\rangle  = 2n$$\n",
        "\n",
        "The $\\chi^2$ distribution has the same qualitative feature as the Poisson distribution in that the\n",
        "relative width is proportional to $1/\\sqrt{\\mu}$ (though in this case there is a factor of $1/\\sqrt{2}$ as well.  We'll see this has consequences in fitting....\n",
        "\n",
        "\n",
        "*Briet-Wigner Distribution*\n",
        "\n",
        "And finally the Breit-Wigner distribution.  Recall the PDF is:\n",
        "$$\\Large P(x; \\Gamma, x_0) = \\frac{1}{\\pi}\\frac{\\Gamma}{(x - x_0)^2 + \\Gamma^2}.$$\n",
        "\n",
        "The mean would be:\n",
        "$$\\Large \\Large \\langle x\\rangle  = \\int  dx \\frac{x}{\\pi}\\frac{\\Gamma}{(x - x_0)^2 + \\Gamma^2}.$$\n",
        "\n",
        "However, this integral is divergent over the range $-\\infty \\to 0$ and the range $0 \\to \\infty$ so the mean is not defined.  The same is true for the variance and other higher moments.\n"
      ],
      "metadata": {
        "id": "b0opWn62yvXu"
      }
    },
    {
      "cell_type": "markdown",
      "source": [
        "**Moments from a Dataset**\n",
        "\n",
        "The moments discussed above are properties of analytic probability distributions.  That's good to know but a finite dataset is never as well known as the analytic distributions.  Of course a dataset might not obey any of the probability distributions discussed here anyway.\n",
        "\n",
        "Here we'll go over how to get at the moments of some datasets and discuss a bit about how they are actually used in real situations."
      ],
      "metadata": {
        "id": "Xpgl2Jrs8duX"
      }
    },
    {
      "cell_type": "code",
      "source": [
        "blobs.describe()"
      ],
      "metadata": {
        "id": "rHvAv2F895CQ"
      },
      "execution_count": null,
      "outputs": []
    },
    {
      "cell_type": "code",
      "execution_count": null,
      "metadata": {
        "id": "J-ifViUzA7Kw"
      },
      "outputs": [],
      "source": [
        "np.mean(blobs, axis=0)"
      ]
    },
    {
      "cell_type": "code",
      "execution_count": null,
      "metadata": {
        "id": "4Wf6gOmAA7Kw"
      },
      "outputs": [],
      "source": [
        "np.var(blobs, axis=0)"
      ]
    },
    {
      "cell_type": "code",
      "execution_count": null,
      "metadata": {
        "id": "Es77bep7A7Kw"
      },
      "outputs": [],
      "source": [
        "np.std(blobs, axis=0)"
      ]
    },
    {
      "cell_type": "markdown",
      "source": [
        "Just a little be of cross checking to make sure everything is doing what we expect."
      ],
      "metadata": {
        "id": "8FpUFZ_p-L6d"
      }
    },
    {
      "cell_type": "code",
      "execution_count": null,
      "metadata": {
        "id": "vXwnWUUjA7Kw"
      },
      "outputs": [],
      "source": [
        "assert np.allclose(np.std(blobs, axis=0) ** 2, np.var(blobs, axis=0))"
      ]
    },
    {
      "cell_type": "code",
      "execution_count": null,
      "metadata": {
        "id": "2oWJKlWGA7Kw"
      },
      "outputs": [],
      "source": [
        "assert np.allclose(\n",
        "    np.mean((blobs - np.mean(blobs, axis=0)) ** 2, axis=0),\n",
        "    np.var(blobs, axis=0))"
      ]
    },
    {
      "cell_type": "code",
      "execution_count": null,
      "metadata": {
        "id": "zHzNL_kE3CZb"
      },
      "outputs": [],
      "source": [
        "ntries = 1000\n",
        "gaussarray_wide = np.array([])\n",
        "gaussarray_narrow = np.array([])\n",
        "\n",
        "for _ in range(ntries):\n",
        "\tvalue = gauss(0, 0.2)\n",
        "\tgaussarray_narrow = np.append(gaussarray_narrow,value)\n",
        "\n",
        "for _ in range(ntries):\n",
        "\tvalue = gauss(0, 1)\n",
        "\tgaussarray_wide = np.append(gaussarray_wide,value)\n",
        "fig, (ax1, ax2) = plt.subplots(1, 2)\n",
        "fig.suptitle('wide and narrow gaussians')\n",
        "ax1.hist(gaussarray_wide, bins=40, range=[-5,5])\n",
        "ax2.hist(gaussarray_narrow, bins=40, range=[-5,5])\n",
        "print(\"hi!\")\n",
        "\n"
      ]
    },
    {
      "cell_type": "code",
      "execution_count": null,
      "metadata": {
        "id": "4xVcwk17k4x9"
      },
      "outputs": [],
      "source": [
        "ntries = 1000\n",
        "gaussarray = np.array([])\n",
        "\n",
        "for _ in range(ntries):\n",
        "\tvalue = gauss(0, 2)\n",
        "\tgaussarray = np.append(gaussarray,value)\n",
        "\n",
        "plt.hist(gaussarray)\n",
        "\n",
        "print(\"Gaussian\")\n",
        "print(\"first central moment\", moment(gaussarray, moment=1))\n",
        "print(\"variance\", moment(gaussarray, moment=2))\n",
        "print(\"skewness\", moment(gaussarray, moment=3)/(moment(gaussarray,moment=2))**1.5)\n",
        "print(\"kurtosis\", moment(gaussarray, moment=4)/(moment(gaussarray,moment=2))**2)\n"
      ]
    },
    {
      "cell_type": "markdown",
      "source": [
        "When calculating selected moments for random numbers generated for a from a given distribution, the numbers we get are *close* but not identical to the theoretical values calculated above.  We'll discuss how close these should be to the ideal case further down.\n",
        "\n"
      ],
      "metadata": {
        "id": "d3vMLwDQEDTq"
      }
    },
    {
      "cell_type": "code",
      "source": [
        "ntries = 1000\n",
        "\n",
        "bwarray = np.array([])\n",
        "for _ in range(ntries):\n",
        "\tvalue = np.random.standard_cauchy(1)\n",
        "\tbwarray = np.append(bwarray,value)\n",
        "\n",
        "plt.hist(bwarray)\n",
        "\n",
        "print(\"Breit-Wigner (Cauchy)\")\n",
        "print(\"first central moment\", moment(bwarray, moment=1))\n",
        "print(\"variance\", moment(bwarray, moment=2))\n",
        "print(\"skewness\", moment(bwarray, moment=3)/(moment(bwarray,moment=2))**1.5)\n",
        "print(\"kurtosis\", moment(bwarray, moment=4)/(moment(bwarray,moment=2))**2)"
      ],
      "metadata": {
        "id": "E25BBh_HBXth"
      },
      "execution_count": null,
      "outputs": []
    },
    {
      "cell_type": "code",
      "source": [
        "ntries = 1000\n",
        "\n",
        "uarray = np.array([])\n",
        "for _ in range(ntries):\n",
        "\tvalue = np.random.uniform()\n",
        "\tuarray = np.append(uarray,value)\n",
        "\n",
        "plt.hist(uarray)\n",
        "\n",
        "print(\"Uniform\")\n",
        "print(\"first central moment\", moment(uarray, moment=1))\n",
        "print(\"variance\", moment(uarray, moment=2))\n",
        "print(1/12)\n"
      ],
      "metadata": {
        "id": "S2xX834USxOM"
      },
      "execution_count": null,
      "outputs": []
    },
    {
      "cell_type": "markdown",
      "source": [
        "**Back to an Arbitrary Dataset**"
      ],
      "metadata": {
        "id": "tbqtLvebvxaH"
      }
    },
    {
      "cell_type": "code",
      "execution_count": null,
      "metadata": {
        "id": "4LbLt8NLMENx"
      },
      "outputs": [],
      "source": [
        "#always check the documentation to make sure the definitions are the same\n",
        "\n",
        "print(\"the first central moment ought to be 0:\", moment(blobs, moment=1))\n",
        "print(\"the second central moment\", moment(blobs, moment=2))\n",
        "print(\"third central moment\", moment(blobs, moment=3))\n",
        "print(\"fourth central moment\", moment(blobs, moment=4))\n",
        "\n",
        "plt.hist(blobs['x2'])\n"
      ]
    },
    {
      "cell_type": "markdown",
      "metadata": {
        "id": "fn5_obd4Tqf2"
      },
      "source": [
        "**Moments for a Dataset with Unknown Shape**\n",
        "\n",
        "For the blobs dataset, the results might not be particularly illuminating, but the higher order moments can be particularly useful when you are trying to compare datasets for which you don't have a model (e.g. you don't know the dataset should be Gaussian or Poisson or ...) or you would just like to make a statement independent of models.  \n",
        "\n",
        "Here is an example from the LHC.  In this case the ALICE collaobration measured the\n",
        "average momentum of all the particles produced in a single collision between two lead nuclei.  They then plotted the distribution of this average from a large collection of collisions (plot on the left, where the different sets of points are different classes of events) https://arxiv.org/pdf/2308.16217 .  You can see that even within event classes there is a distribution of the average momentum of the particles in the separate collisions.\n",
        "\n",
        "They then calculate the skewness and kurtosis of these distributions.  Additionally, these same quantities can also be calculated using theoretical models (shown as the lines on the middle and right panels).  Neither the data nor the models are well described by Gaussians (though the data does become more Gaussian-like moving toward the right on the skewness and kurtosis plots).\n",
        "![image](https://drive.google.com/uc?export=view&id=1vHMGct8jpu3sy_gUwlpEQPJ76P6qdUPR)\n",
        "\n"
      ]
    },
    {
      "cell_type": "markdown",
      "metadata": {
        "id": "38OzLvSXLXgh"
      },
      "source": [
        "**Mixed Moments**\n",
        "\n",
        "In addition to the moments of a single variable, for multivariate distributions, mixed-moments can be defined.  As an example, take the equation above but now let $g = g(x,y) = x^ny^m$:\n",
        "\n",
        "$$ \\Large\n",
        "\\langle g\\rangle \\equiv \\iint dx dy\\, g(x,y) P(x,y) \\; .\n",
        "$$\n",
        "\n",
        "Then $\\langle g\\rangle$ would be the raw moment of\n",
        "order $n$ of x and $m$ of y.  Central and standard mixed moments can be defined analogously to those for one variable above.\n",
        "- For example the central moment of order $n$ of x and $m$ of y would be $g(x,y) = (x-\\bar{x})^n(y-\\bar{y})^m$ This can be generalized to an aritbrary number\n",
        "of variables.  \n",
        "\n",
        "This can seem esoteric, but for two variables and $m=n=1$, we\n",
        "will define the correlation and covariance below that is a key concept for\n",
        "interpreting data and understanding how two quantities are related to each other.\n"
      ]
    },
    {
      "cell_type": "markdown",
      "metadata": {
        "id": "YrXBaue7A7Kx"
      },
      "source": [
        "<span style=\"color:LightGreen\">Covariance</span>"
      ]
    },
    {
      "cell_type": "markdown",
      "metadata": {
        "id": "dGpZZHOUDRiu"
      },
      "source": [
        "If you have more than one variable, a key question is whether having more than one variable providing new information or are the variables just repeating the same information?  Here will will introduce **covariance** and **correlation**.\n",
        "\n",
        "The **covariance between x and y** is defined as:\n",
        "$$ \\Large\n",
        "\\text{Cov}_{xy} \\equiv \\langle\\left( x - \\overline{x}\\right) \\left( y - \\overline{y}\\right)\\rangle \\; .\n",
        "$$\n",
        "\n",
        "A useful combination of the correlation and variances is the **correlation coefficient**,\n",
        "\n",
        "$$ \\Large\n",
        "\\rho_{xy} \\equiv \\frac{\\text{Cov}_{x,y}}{\\sigma_x \\sigma_y} \\; ,\n",
        "$$\n",
        "\n",
        "which, by construction, must be in the range $[-1, +1]$.\n",
        "\n",
        "\n",
        "We say that the variance and correlation are both *second-order moments* since they are expectation values of second-degree polynomials.\n",
        "\n",
        "We call the random variables $x$ and $y$ **uncorrelated** when:\n",
        "\n",
        "$$ \\Large\n",
        "\\text{Cov}_{xy} = \\rho_{xy} = 0 \\; .\n",
        "$$\n",
        "\n",
        "To obtain an **empirical estimate** of the quantities above derived from your data, use the corresponding numpy functions, as we'll see below."
      ]
    },
    {
      "cell_type": "markdown",
      "source": [
        "<span style=\"color:LightGreen\">Covariance Matrix</span>"
      ],
      "metadata": {
        "id": "RHt0ZlQyUPht"
      }
    },
    {
      "cell_type": "markdown",
      "metadata": {
        "id": "xAJGDddVA7Kx"
      },
      "source": [
        "It is useful to construct the **covariance matrix** $C$ with elements:\n",
        "\n",
        "$$ \\Large\n",
        "C \\equiv \\begin{bmatrix}\n",
        "\\sigma_x^2 & \\rho_{x,y} \\sigma_x \\sigma_y \\\\\n",
        "\\rho_{x,y} \\sigma_x \\sigma_y & \\sigma_y^2 \\\\\n",
        "\\end{bmatrix}\n",
        "$$\n",
        "\n",
        "With more than 2 random variables, $x_0, x_1, \\ldots$, this matrix generalizes to:\n",
        "\n",
        "$$ \\Large\n",
        "C_{ij} = \\langle \\left( x_i - \\overline{x}_i\\right) \\left( x_j - \\overline{x}_j\\right)\\rangle \\; .\n",
        "$$\n",
        "\n",
        "Comparing with the definitions above, we find variances on the diagonal:\n",
        "\n",
        "$$ \\Large\n",
        "C_{ii} = \\sigma_i^2\n",
        "$$\n",
        "\n",
        "and symmetric correlations on the off-diagonals:\n",
        "\n",
        "$$ \\Large\n",
        "C_{ij} = C_{ji} = \\rho_{ij} \\sigma_i \\sigma_j \\; .\n",
        "$$\n",
        "\n",
        "(The covariance is not only symmetric but also [positive definite](https://en.wikipedia.org/wiki/Positive-definite_matrix)).\n",
        "\n"
      ]
    },
    {
      "cell_type": "markdown",
      "source": [
        "Here we can take a look at the covariance matrix for two variables in the *blobs* dataset."
      ],
      "metadata": {
        "id": "IhKL4FXRz3Ba"
      }
    },
    {
      "cell_type": "code",
      "execution_count": null,
      "metadata": {
        "id": "V0FBPZFI09l9"
      },
      "outputs": [],
      "source": [
        "plt.scatter(blobs['x0'], blobs['x1'], s=10)\n",
        "np.corrcoef(blobs['x0'], blobs['x1'])"
      ]
    },
    {
      "cell_type": "markdown",
      "source": [
        "**Uncorrelated versus Independent**"
      ],
      "metadata": {
        "id": "VvjDdRWrWxMa"
      }
    },
    {
      "cell_type": "markdown",
      "source": [
        "It is tempting to think that if two variables are uncorrelated, they are independent.  However that is not the case.  \n",
        "\n",
        "Let's take the simple case two random variables X and Y where\n",
        "$X = x$ and $Y = x^2$.  Clearly these two variables are not independent.  If you know any value of x, you can determine y and vise versa.  Let's use the machinary from last week to calculate the correlation coefficient with x sampled from a Guassian centered at $x=0$"
      ],
      "metadata": {
        "id": "u_LDCSZb0YUT"
      }
    },
    {
      "cell_type": "code",
      "source": [
        "\n",
        "ntries = 10000\n",
        "gaussarray = np.array([])\n",
        "gaussarray_sq = np.array([])\n",
        "\n",
        "for _ in range(ntries):\n",
        "  value = gauss(0, 2)\n",
        "  if value > -100:\n",
        "    gaussarray = np.append(gaussarray,value)\n",
        "    gaussarray_sq = np.append(gaussarray_sq,value*value)\n",
        "\n",
        "\n",
        "print(np.corrcoef(gaussarray, gaussarray_sq))\n",
        "plt.scatter(gaussarray, gaussarray_sq, s=10)"
      ],
      "metadata": {
        "id": "F0-TqhY90cg5"
      },
      "execution_count": null,
      "outputs": []
    },
    {
      "cell_type": "markdown",
      "source": [
        "The plot looks sensible, but the correlation coefficent is approximately zero.  Running more events isn't going to give us the strong correlation we might expect.  We can clearly see that given a value of X, Y is uniquely determined.\n",
        "\n",
        "Let's take a look at this mathematically for our case of $X = x$ and $Y = x^2$ with x being symmetric around the origin.  In that case:\n",
        "$$\n",
        "\\bar{X} = 0 \\\\\n",
        "\\bar{Y} = \\langle x^2 \\rangle\n",
        "$$\n",
        "plugging in what we know:\n",
        "$$\n",
        "\\bar{Y} = \\sigma^2_x\n",
        "$$\n",
        "so the correlation between X and Y is:\n",
        "$$\\text{Cov}_{xy} = \\langle\\left( x\\right) \\left( x^2 - \\overline{x^2}\\right)\\rangle \\\\\n",
        "= \\langle (x\\left( x^2 - \\sigma^2\\right)\\rangle \\\\\n",
        "=\\langle x^3 - x^2\\langle x\\rangle \\rangle = 0.\n",
        "$$\n",
        "\n",
        "\n",
        "This is true because the function is symmetric about $x=0$.  Let's look at the same Gaussian centered at the origin, but only with the requirement that $x>0$."
      ],
      "metadata": {
        "id": "aYuCK_MqXSRW"
      }
    },
    {
      "cell_type": "code",
      "source": [
        "ntries = 10000\n",
        "gaussarray = np.array([])\n",
        "gaussarray_sq = np.array([])\n",
        "\n",
        "for _ in range(ntries):\n",
        "  value = gauss(0, 2)\n",
        "  if value > -0:\n",
        "    gaussarray = np.append(gaussarray,value)\n",
        "    gaussarray_sq = np.append(gaussarray_sq,value*value)\n",
        "\n",
        "\n",
        "print(np.corrcoef(gaussarray, gaussarray_sq))\n",
        "plt.scatter(gaussarray, gaussarray_sq, s=10)"
      ],
      "metadata": {
        "id": "WRNJM9m7Xoc_"
      },
      "execution_count": null,
      "outputs": []
    },
    {
      "cell_type": "markdown",
      "source": [
        "We have seen that if two variables are uncorrelated they are not necessarily independent.  However, if two variables are *independent* then they are uncorrelated.  This means you can't necessarily directly take the correlation between two variables as telling you how much extra information is being provided by the second quantity.  \n",
        "\n",
        "If we just had the datasets themselves and didn't know the $Y = x^2$ relationship set out above, we might calculate the correlation coefficient and think that the two variables are independent.  The plots however make clear that if you know $x$ you directly know $Y$.\n"
      ],
      "metadata": {
        "id": "rwc9sYoPXt79"
      }
    },
    {
      "cell_type": "markdown",
      "source": [
        "<span style=\"color:LightGreen\">Other Correlation Measures</span>"
      ],
      "metadata": {
        "id": "17XXSo_0X9Q7"
      }
    },
    {
      "cell_type": "markdown",
      "source": [
        "$\\rho_{xy}$ is known as the Pearson correlation coeffient and is sensitive to the degree of linear correlation and is very common in physics (just google it).  \n",
        "\n",
        "There are other measures of the correlation, e.g. Spearman's $\\rho$ and other rank correlation measures.  \n"
      ],
      "metadata": {
        "id": "B_CpZcQVX4ae"
      }
    }
  ],
  "metadata": {
    "colab": {
      "provenance": []
    },
    "kernelspec": {
      "display_name": "Python 3 (ipykernel)",
      "language": "python",
      "name": "python3"
    },
    "language_info": {
      "codemirror_mode": {
        "name": "ipython",
        "version": 3
      },
      "file_extension": ".py",
      "mimetype": "text/x-python",
      "name": "python",
      "nbconvert_exporter": "python",
      "pygments_lexer": "ipython3",
      "version": "3.9.6"
    }
  },
  "nbformat": 4,
  "nbformat_minor": 0
}