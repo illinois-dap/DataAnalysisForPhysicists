{
  "nbformat": 4,
  "nbformat_minor": 0,
  "metadata": {
    "colab": {
      "provenance": []
    },
    "kernelspec": {
      "name": "python3",
      "display_name": "Python 3"
    },
    "language_info": {
      "name": "python"
    }
  },
  "cells": [
    {
      "cell_type": "markdown",
      "source": [
        "### <span style=\"color:LightGreen\">Uncertainties on the Mean</span>"
      ],
      "metadata": {
        "id": "8RveOsoXQnVp"
      }
    },
    {
      "cell_type": "code",
      "source": [
        "import numpy as np\n",
        "%matplotlib inline\n",
        "import matplotlib.pyplot as plt\n",
        "import seaborn as sns; sns.set()\n",
        "import numpy as np\n",
        "import pandas as pd\n",
        "from random import gauss\n",
        "import scipy.stats\n",
        "from scipy.stats import moment\n",
        "from scipy.stats import poisson\n",
        "\n"
      ],
      "metadata": {
        "id": "LGT7rGUXhK8V"
      },
      "execution_count": null,
      "outputs": []
    },
    {
      "cell_type": "markdown",
      "source": [
        "Given a dataset of a finite size, there are uncertainties on any of the associated moments.  We'll discuss the special case of counting experiments using the Poisson distribution.  We're going to focus on the uncertainty on the mean.\n",
        "\n",
        "Last week we discussed:\n",
        "\n",
        "$$\\Large P(k; \\lambda) = \\frac{e^{-\\lambda} \\lambda^k}{k!}$$\n",
        "\n",
        "The Poisson distribution is a useful model for describing the statistics of event-counting rates in (uncorrelated) counting measurements (which are ubiquitous in astronomy and particle physics).\n",
        "\n",
        "It's useful to note that the Poisson distribution is defined for integer values of $k$, but $\\lambda$ of course doesn't need to be an integer.\n",
        "\n",
        "As we discussed in the last notebook $\\lambda$ is both the mean and the variance of the Poisson distribution.  Thus the relative width of the Poisson distribution goes as $1/\\sqrt{\\lambda}$.\n",
        "\n"
      ],
      "metadata": {
        "id": "NVJimMYoTt-q"
      }
    },
    {
      "cell_type": "code",
      "source": [
        "mu = 1.5\n",
        "rv = poisson(mu)\n",
        "R = poisson.rvs(mu, size=1000)\n",
        "highval = np.max(R)\n",
        "\n",
        "binedge = np.linspace(-0.5, highval+0.5, highval+2)\n",
        "#this binning definition makes each bin have a width of 1 and has the bin centers be integers\n",
        "plt.hist(R,bins = binedge)\n",
        "print(\"mean: \", np.mean(R), \" & variance: \", np.var(R))\n",
        "#note with a Poisson, the mean doesn't have to be an integer even though the distribution itself only generates integers"
      ],
      "metadata": {
        "id": "PYAHvyKnUNxP"
      },
      "execution_count": null,
      "outputs": []
    },
    {
      "cell_type": "markdown",
      "source": [
        "This means that the relative uncertainty on the mean of a counting experiment is $1/\\sqrt{\\lambda}$. That means\n",
        "that for a counting experiment the uncertainty on the mean\n",
        "becomes smaller with $1/\\sqrt{n}$.  This is really fundamental to much of experimental physics.  \n",
        "If you want 10% precision you need:\n",
        "$$1/\\sqrt{N} = 0.1\\\\\n",
        "N=100$$\n",
        "if you want 1% precision you need:\n",
        "$$1/\\sqrt{N} = 0.01\\\\\n",
        "N=10000$$\n",
        "\n",
        "Precision improves quickly at first as you add data, but then much more slowly.\n"
      ],
      "metadata": {
        "id": "VcY9tyop4EVM"
      }
    },
    {
      "cell_type": "markdown",
      "source": [
        "**Counting Experiments**\n",
        "\n",
        "So what is a *counting experiment* where the Poisson is so useful?\n",
        "\n",
        "A classic example is counting radioactive decays.  Let's say you have a sample of Americium-241 (this is the isotope used in smoke detectors).  You want to know how many decays per second are measured.  It doesn't make sense to just measure for one second because then you won't get very many decays and it's tough to measure the one second.  You decide to measure for 1 minute (60 seconds) and divide the total rate by 60 seconds to get the rate per second.\n",
        "\n",
        "Over the 60 seconds you measure 1594 decays.  Then the best estimate for the mean of the Poisson distribution for the number of decays in 60 seconds is 1594.  How much variation would you expect if you did this measurement again.  It seems unreasonable that you would get exactly 1594 again but how do you understand the uncertainty on your measurement?\n",
        "\n",
        "Well we know this is a Poisson distribution and now $\\lambda = 1594$, the variance is also 1594 and the standard deviation of the Poisson is $\\sqrt{\\lambda} = 40$.  \n",
        "- Thinking of the *relative width* from the last notebook, $1/\\sqrt{\\lambda} = 0.03$.  The overall precision of the measurement is about 3%.\n",
        "\n",
        "We weren't interested in the decay rate per minute, we wanted the decays per *second*.  The best estimate of that is:\n",
        "- *decays / second* = $1594 / 60 s = 26.56 / s$\n",
        "- 3% of $26.56 / s$ is $0.8 /s$\n",
        "- so our measurement is this sample produces 26.6 $\\pm$ 0.8 decays / second.\n",
        "\n",
        "You have a very distractable colleague who cannot imagine running a counting measurement for a whole minute.  They decide to make the same measurement but only for 5 seconds.  Over 5 seconds they measure 134 decays.  There we havee $\\lambda = 134$ and $1/\\sqrt{\\lambda} = 0.08$.  Following the above this measurement\n",
        "is 26 $\\pm$ 2 decays / second.\n",
        "\n",
        "Finally, you have a colleague who gets engrossed in a book while the experiment is running and takes data for 10 minutes.  They measure 16,258 decays for 27.1 $\\pm$ 0.2 decays / second."
      ],
      "metadata": {
        "id": "YJVuGCSti2UH"
      }
    },
    {
      "cell_type": "markdown",
      "source": [
        "A few thoughts about the above example:\n",
        "- increasing the number of counts in a sample is what decreases the uncertainty, often that just means running the experiment for a longer amount of time.\n",
        "- the reason that is the case is because the relative width (uncertainty) is *only* a function of the total number of counts that you have, not the absolute rate.\n",
        "- doubling the number of counts decreases the uncertainty by $1/\\sqrt{2} = 0.707$.  In the beginning doubling is easy and eventually it becomes hard...\n"
      ],
      "metadata": {
        "id": "0mX2qMLlrTkK"
      }
    },
    {
      "cell_type": "markdown",
      "source": [
        "**Uncertainty Evaluation by Sampling**\n",
        "\n",
        "The analytic formulas for uncertainty evaluation are extremely useful but in many cases, using the data itself to evaluate the uncertainties is useful.  These techniques go by names like *subsampling* and *bootstrapping* and they are useful for datasets that involve complicated calculations (making direct propagation difficult) or the analytic techniques don't work for some reason.\n",
        "\n",
        "This seems like a scam, but it works as we'll see below.  Basically this replaces the analytic calculations we worked through with computing power (to generate the bootstraps as well see below)."
      ],
      "metadata": {
        "id": "BZrciKJfS5av"
      }
    },
    {
      "cell_type": "code",
      "source": [
        "rng = np.random.default_rng()\n",
        "from scipy.stats import norm\n",
        "dist = norm(loc=2, scale=4)  # let's just start with a Gaussian\n",
        "#making 100 random values\n",
        "data = dist.rvs(size=100, random_state=rng)\n",
        "plt.hist(data)"
      ],
      "metadata": {
        "id": "8oQnadMOU2La"
      },
      "execution_count": null,
      "outputs": []
    },
    {
      "cell_type": "markdown",
      "source": [
        "For these 100 values we would expect to know the mean to the level of $4/\\sqrt{100} = 0.4$  (think of the lecture slides) and we don't have an estimate of how precisely we should know the standard deviation."
      ],
      "metadata": {
        "id": "7wec6yEIVTZa"
      }
    },
    {
      "cell_type": "code",
      "source": [
        "print(\"mean: \",np.mean(data))\n",
        "print(\"standard dev: \",np.std(data))"
      ],
      "metadata": {
        "id": "DKEQyk4vVS6H"
      },
      "execution_count": null,
      "outputs": []
    },
    {
      "cell_type": "markdown",
      "source": [
        "The deviation of the sample mean from the expected value checks out with our estimate."
      ],
      "metadata": {
        "id": "z9Kcwu4NxuP4"
      }
    },
    {
      "cell_type": "code",
      "source": [
        "from scipy.stats import bootstrap\n",
        "print(type(data))\n",
        "data_tuple = (data,)  # samples must be in a sequence\n",
        "print(type(data_tuple))\n"
      ],
      "metadata": {
        "id": "GTSpatcQXZ4j"
      },
      "execution_count": null,
      "outputs": []
    },
    {
      "cell_type": "markdown",
      "source": [
        "The bootstrapping code has an argument *confidence_interval*.  The uncertainties we have generally talked about are \"1-$\\sigma$\" uncertainties which correspond to a 68% confidence interval.  In many places in statistics a higher confidence level is used, often 90% or 95%.  \n",
        "- Be aware of what the default value is for any code that you use.  That's an often silent way to get results you do not understand.\n"
      ],
      "metadata": {
        "id": "T2pnVjIE4S9b"
      }
    },
    {
      "cell_type": "code",
      "source": [
        "res = bootstrap(data_tuple, np.std, n_resamples = 3, confidence_level=0.68, random_state=123)\n",
        "fig, ax = plt.subplots()\n",
        "ax.hist(res.bootstrap_distribution, bins=25)\n",
        "#res.bootstrap_distribution is an nd array with a size of n_resamples\n",
        "ax.set_title('Bootstrap Distribution')\n",
        "ax.set_xlabel('statistic value')\n",
        "ax.set_ylabel('frequency')\n",
        "plt.show()\n",
        "print(type(res))\n",
        "print(res.standard_error)"
      ],
      "metadata": {
        "id": "avEe5yO1Zmlv"
      },
      "execution_count": null,
      "outputs": []
    },
    {
      "cell_type": "code",
      "source": [
        "res.bootstrap_distribution.shape\n"
      ],
      "metadata": {
        "id": "tTyfo51D0bYG"
      },
      "execution_count": null,
      "outputs": []
    },
    {
      "cell_type": "markdown",
      "source": [
        "This is the distribution of the mean value of the resampled distributions.  There is one entry in this histogram for each *n_resample*.  For each resample, the software pulls the same number of random values according to the original distribution.  This resampled distribution will have 100 entries (in this case) just like the original distribution but it will not be identical to the original distribution (just like drawing 100 random numbers according to a Gaussian distribution isn't exactly a Gaussian distribution).  The mean of this resampled distribution is evaluated.  The standard deviation of the distribution of means of the resampled distribution is the uncertainty on the mean.\n",
        "\n",
        "Chosing *n_resample* depends on computational limits on the high end and math on the low end.  Obviously a generating only a few resamplings is not going to be useful or provide an accurate representation of the uncertainty (note the default value of *n_resample* is 9999 so beware with large datasets).  Typical values range from 100-1000 but depend on a lot of factors.\n",
        "\n"
      ],
      "metadata": {
        "id": "YaS-KmZMXZmi"
      }
    },
    {
      "cell_type": "markdown",
      "source": [
        "In the example above, we are only calculating the mean of a distribution and so perhaps the bootstrap is overkill.  We know how to calculate the uncertainty on the mean from the size of the sample and the standard deviation.\n",
        "\n",
        "Let's try something a little more complicated....\n",
        "\n",
        "Here we'll take the data from before and square each element (it's simpler to go back to the original numpy array and square the elements there then handle the type conversation to what the bootstrapping wants)."
      ],
      "metadata": {
        "id": "mtYHhdqrzug_"
      }
    },
    {
      "cell_type": "code",
      "source": [
        "data2 = data**2\n",
        "data2.shape\n",
        "plt.hist(data2)\n",
        "data2_tuple = (data2,)"
      ],
      "metadata": {
        "id": "D8ppAWue1CBQ"
      },
      "execution_count": null,
      "outputs": []
    },
    {
      "cell_type": "code",
      "source": [
        "res = bootstrap(data2_tuple, np.std, n_resamples = 300, confidence_level=0.68, random_state=123)\n",
        "fig, ax = plt.subplots()\n",
        "ax.hist(res.bootstrap_distribution, bins=25)\n",
        "#res.bootstrap_distribution is an nd array with a size of n_resamples\n",
        "ax.set_title('Bootstrap Distribution')\n",
        "ax.set_xlabel('statistic value')\n",
        "ax.set_ylabel('frequency')\n",
        "plt.show()\n",
        "print(type(res))\n",
        "print(res.standard_error)"
      ],
      "metadata": {
        "id": "SLl85qsHNLY6"
      },
      "execution_count": null,
      "outputs": []
    },
    {
      "cell_type": "markdown",
      "source": [
        "Bootstrapping is a part of a collection of techniques used in sampling.  They are all modern because they rely on having computational power.  \n",
        "\n",
        "One of the earliest forms of resampling is [jackknife](https://en.wikipedia.org/wiki/Jackknife_resampling).  Here the *N* points are divided into *N* samples of size *N-1* to understand the variation and look for biases.\n",
        "Another one of these techniques is *subsampling*.  There the dataset is randomly divided into *M* samples of the same size.  For each sample the mean is evaluated.  The uncertainty on the mean can then be evaluated using standard techniques for evaluating the uncertainty on the mean (discussed in the slides).\n",
        "\n",
        "The bootstrap is used *heavily* in modern physics because it is so straightforward even for complicated quantities.  [Here](http://cds.cern.ch/record/2759945) is a document describing the use of this technique in ATLAS."
      ],
      "metadata": {
        "id": "IUM2mZDrPCZ4"
      }
    }
  ]
}