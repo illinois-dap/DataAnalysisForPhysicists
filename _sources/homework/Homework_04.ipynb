{
  "nbformat": 4,
  "nbformat_minor": 0,
  "metadata": {
    "colab": {
      "provenance": []
    },
    "kernelspec": {
      "name": "python3",
      "display_name": "Python 3"
    },
    "language_info": {
      "name": "python"
    }
  },
  "cells": [
    {
      "cell_type": "markdown",
      "source": [
        "**Problem 1**"
      ],
      "metadata": {
        "id": "2Po6R1bl3bvi"
      }
    },
    {
      "cell_type": "markdown",
      "source": [
        "The Large Hadron Collider (and all colliders) operate by colliding bunches of ions together (a bunch at the LHC contains more than $10^{11}$ protons).  Each proton has a very small change of hitting another one so we can think of each potential collision as independent.  Let's say that for a given setup of the LHC the average number of collisions per bunch is $\\mu$.  "
      ],
      "metadata": {
        "id": "f2u3duOT6wuQ"
      }
    },
    {
      "cell_type": "markdown",
      "source": [
        "*Part 1* Write a function that determines the probability of more than one collision per bunch crossing *in the case that there is at least one collision*."
      ],
      "metadata": {
        "id": "3VvTPnP7oq_2"
      }
    },
    {
      "cell_type": "code",
      "execution_count": null,
      "metadata": {
        "id": "xOUo36i66rCU"
      },
      "outputs": [],
      "source": []
    },
    {
      "cell_type": "markdown",
      "source": [
        "*Part 2*  Let's assume that $\\mu = 40$.  What is the probability that there are more than 60 collisions in a single bunch crossing?"
      ],
      "metadata": {
        "id": "OGkDamj6otxl"
      }
    },
    {
      "cell_type": "code",
      "source": [],
      "metadata": {
        "id": "5VvuIeLIhOLf"
      },
      "execution_count": null,
      "outputs": []
    },
    {
      "cell_type": "markdown",
      "source": [
        "**Problem 2**"
      ],
      "metadata": {
        "id": "FYT1mMOL3fKo"
      }
    },
    {
      "cell_type": "markdown",
      "source": [
        "In class, we discussed the error on the mean of a distribution via bootstrapping.     "
      ],
      "metadata": {
        "id": "RXvwLmmL8d6h"
      }
    },
    {
      "cell_type": "markdown",
      "source": [
        "*Part 1* Write a function that takes in an array of values and an order of a moment $n$ and determines the error on that moment."
      ],
      "metadata": {
        "id": "Af4MXulTpTw2"
      }
    },
    {
      "cell_type": "code",
      "source": [],
      "metadata": {
        "id": "bPJ7auggpVYp"
      },
      "execution_count": null,
      "outputs": []
    },
    {
      "cell_type": "markdown",
      "source": [
        "*Part 2* Verify that the function works as expected for the mean by generating random samples according to a Poisson distribution of sizes 2, 5, 10, 50, 100, 500, 1000 and make a plot comparing the analytic uncertainty on the mean to that from the bootstrapping method.  Make a plot (with labels) to show your results."
      ],
      "metadata": {
        "id": "I2LiVJORpVwj"
      }
    },
    {
      "cell_type": "code",
      "source": [],
      "metadata": {
        "id": "5dfQNsk3pud4"
      },
      "execution_count": null,
      "outputs": []
    },
    {
      "cell_type": "markdown",
      "source": [
        "**Problem 3**"
      ],
      "metadata": {
        "id": "yFIiW90-3i5u"
      }
    },
    {
      "cell_type": "markdown",
      "source": [
        "We looked at bootstrapping with 1D distributions in class.  Generate a set of a 1000 random numbers according to a 2D Gaussian with a mean of 0 and $\\sigma$ in both dimension equal to 1.  Let $\\rho$ be 0.95."
      ],
      "metadata": {
        "id": "0TendAdTFAAB"
      }
    },
    {
      "cell_type": "code",
      "source": [],
      "metadata": {
        "id": "MkBD1gP82-_F"
      },
      "execution_count": null,
      "outputs": []
    },
    {
      "cell_type": "markdown",
      "source": [
        "Use bootstrapping to find the 68% confidence interval for the difference of $x$ and $y$."
      ],
      "metadata": {
        "id": "vNf6lIuw2_Q9"
      }
    },
    {
      "cell_type": "code",
      "source": [],
      "metadata": {
        "id": "qtI_cYA53l-6"
      },
      "execution_count": null,
      "outputs": []
    },
    {
      "cell_type": "markdown",
      "source": [
        "Use bootstrapping to find the 68% confidence interval on the Pearson correlation coefficient of $x$ and $y$."
      ],
      "metadata": {
        "id": "kAqQyx703mWY"
      }
    },
    {
      "cell_type": "code",
      "source": [],
      "metadata": {
        "id": "J3Aai00c3xKZ"
      },
      "execution_count": null,
      "outputs": []
    },
    {
      "cell_type": "markdown",
      "source": [
        "Generate two new sets of random numbers with the same mean and widths but now with $\\rho$ of 0 and -0.95.  Calculate the value of the Pearson correlation coefficient on this new dataset.  Does what you see make sense?"
      ],
      "metadata": {
        "id": "4rIzyOPG3xgk"
      }
    },
    {
      "cell_type": "markdown",
      "source": [],
      "metadata": {
        "id": "Hii5NReBhRks"
      }
    },
    {
      "cell_type": "code",
      "source": [],
      "metadata": {
        "id": "dOJeMku2hRX3"
      },
      "execution_count": null,
      "outputs": []
    }
  ]
}