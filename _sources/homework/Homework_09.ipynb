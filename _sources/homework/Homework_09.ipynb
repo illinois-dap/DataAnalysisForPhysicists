{
  "nbformat": 4,
  "nbformat_minor": 0,
  "metadata": {
    "colab": {
      "provenance": []
    },
    "kernelspec": {
      "name": "python3",
      "display_name": "Python 3"
    },
    "language_info": {
      "name": "python"
    }
  },
  "cells": [
    {
      "cell_type": "markdown",
      "source": [
        "### Problem 1\n",
        "\n",
        "Write a program to calculate an confidence limits at arbitrary confidence levels for a given number of observed counts (remember those are integers).  Calculate upper and lower limits (if possible) at 68% and 95% CL for observed counts between 0 and 10."
      ],
      "metadata": {
        "id": "HQnQX-_d6BLx"
      }
    },
    {
      "cell_type": "code",
      "source": [],
      "metadata": {
        "id": "E7X59_HR6AZi"
      },
      "execution_count": null,
      "outputs": []
    },
    {
      "cell_type": "markdown",
      "source": [
        "### Problem 2\n",
        "\n",
        "Another common statistical test is the Student's-t test.  This is similar to a Gaussian test, except that the standard deviations of the distributions are calculated from the data rather than known a priori.  Implementations of this test exist in python (e.g in scipy)."
      ],
      "metadata": {
        "id": "bWqCQ0QV6w6R"
      }
    },
    {
      "cell_type": "markdown",
      "source": [
        "#### Part 1\n",
        "\n",
        "Write a function that uses the Student's t-test to descriminate at an arbitrary level between two samples.\n"
      ],
      "metadata": {
        "id": "uQwksuft7or8"
      }
    },
    {
      "cell_type": "code",
      "source": [],
      "metadata": {
        "id": "l4YnV7Rz9DHR"
      },
      "execution_count": null,
      "outputs": []
    },
    {
      "cell_type": "markdown",
      "source": [
        "#### Part 2\n",
        "\n",
        "Generate two normally distributed samples with $n = 10$ entries with means $\\mu_1 = 5$ and $\\mu_2 = 10$ with both with $\\sigma = 2$\n",
        "\n",
        "Calculate the Student's t-test for whether the sample means (the mean calculated from the $n$ values in each sample) $\\mu_{1,s}$ is significantly different from $\\mu_{2,s}$."
      ],
      "metadata": {
        "id": "7kFgUsyP9De-"
      }
    },
    {
      "cell_type": "code",
      "source": [],
      "metadata": {
        "id": "NA2qOhnG-MFz"
      },
      "execution_count": null,
      "outputs": []
    },
    {
      "cell_type": "markdown",
      "source": [
        "### Part 3\n",
        "\n",
        "Repeat this test for $\\sigma = {1, 3, 5}$ and $n = 2, 5, 15, 25, 250$.\n",
        "\n",
        "How does the significance of the difference in the sample means vary with $\\sigma$ and $n$.  Make a plot to illustrate your conclusion."
      ],
      "metadata": {
        "id": "jTqYKreD-Mbn"
      }
    },
    {
      "cell_type": "code",
      "execution_count": null,
      "metadata": {
        "id": "wFmXMN_xQXdK"
      },
      "outputs": [],
      "source": []
    }
  ]
}