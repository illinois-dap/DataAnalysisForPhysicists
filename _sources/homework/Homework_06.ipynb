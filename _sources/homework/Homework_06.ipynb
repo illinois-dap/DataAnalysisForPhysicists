{
  "nbformat": 4,
  "nbformat_minor": 0,
  "metadata": {
    "colab": {
      "provenance": []
    },
    "kernelspec": {
      "name": "python3",
      "display_name": "Python 3"
    },
    "language_info": {
      "name": "python"
    }
  },
  "cells": [
    {
      "cell_type": "markdown",
      "source": [
        "**Problem 1**"
      ],
      "metadata": {
        "id": "Baqqn0_GTJJq"
      }
    },
    {
      "cell_type": "markdown",
      "source": [
        "Radioactive decay of a nucleus is described as $N(t)=N_0 e^{-t/\\tau}$ where $N_0$ is the number of the nucleus in question initially and $\\tau$ is the half life of the nucleus.  $N(t)$ is the number of nuclei remaining at time $t$."
      ],
      "metadata": {
        "id": "mdJ2V637VMBC"
      }
    },
    {
      "cell_type": "markdown",
      "source": [
        "*Part 1* propagate the uncertainties on $N_0$ and $\\tau$ to get the corresponding uncertainty on $N(t)$ analytically using the information discussed in class."
      ],
      "metadata": {
        "id": "_L7zgk7ZVxfD"
      }
    },
    {
      "cell_type": "markdown",
      "source": [],
      "metadata": {
        "id": "Mt5UOeGbWGTF"
      }
    },
    {
      "cell_type": "markdown",
      "source": [
        "*Part 2* Write a program that draws random numbers according to what you would expect to measure in terms of $N(t)$ as a function of time for a given $N_0$ and $\\tau$.  For the plot purposes set $\\tau=100 s$ and $N_0 = 1$ billion.  Plot a large enough range and generate a large enough sample to cover 10$\\tau$ in the plot."
      ],
      "metadata": {
        "id": "8udjNeKlWC6O"
      }
    },
    {
      "cell_type": "markdown",
      "source": [
        "*Part 3* Fit $N(t)$ using a least squares fit to get $\\tau$ and $N_0$.  Make sure to keep track of the statistical uncertainties in your *data* and your *fit*.  Do the values agree with those you set in *Part 2*?  Are $\\tau$ and $N(0)$ correlated with each other?"
      ],
      "metadata": {
        "id": "W2p0VMURcBH1"
      }
    },
    {
      "cell_type": "markdown",
      "source": [
        "**Problem 2**"
      ],
      "metadata": {
        "id": "qeOKwAHQchqS"
      }
    },
    {
      "cell_type": "markdown",
      "source": [
        "As discussed in class neutral pions decay into pairs of photons and have an invariant mass of 135 MeV ([more information](https://en.wikipedia.org/wiki/Pion), also note that the *charged* pion weights slightly more and does not decay into two photons).  Neutral pions are typically measured by combining pairs of photons detected in a single event.  There is not tag saying that two particular photons came from a particular pion so all pairs are made and the [invariant mass](https://en.wikipedia.org/wiki/Invariant_mass) of each pair is histogramed.  If the average number of pions in a particular event is $N$, then the average number of *pairs* in an event goes like $N^2$; so as $N$ increases the signal (number of photon pairs from a real pion) decreases relative to the background (photon pairs where each photon is from a different pion).  The signal pairs have an invariant mass that is peaked and can be described by a peak centered on 135 MeV and an area of $NxS$, where S is the total number of events. The background pairs have a broad distribution in invariant mass distribution without a peak.  The total distribution can  be described as the sum of these two distributions.\n",
        "\n",
        "the kinematics of photons from pion decay are available here:\n",
        "https://courses.physics.illinois.edu/phys398dap/fa2023/data/pi0s_1.txt\n",
        "https://courses.physics.illinois.edu/phys398dap/fa2023/data/pi0s_5.txt\n",
        "https://courses.physics.illinois.edu/phys398dap/fa2023/data/pi0s_25.txt\n",
        "https://courses.physics.illinois.edu/phys398dap/fa2023/data/pi0s_50.txt\n",
        "\n",
        "where the in the name \"pi0s_N.txt\" $N$ is the number of pions per event (so each event contains 2N photons).  The columns are labeled as event number, the x, y, z components of the momentum and the energy."
      ],
      "metadata": {
        "id": "v9PZZuNYclOE"
      }
    },
    {
      "cell_type": "markdown",
      "source": [
        "*Part 1*  Using the avialable files here, create *all* pairs of photons with the same event number.  This means that you create all possible pairs of photons within the same event and you do this for each event.  If the event contains 4 photons there are six photon pairs: AB, AC, AD, BC, BD, BC (the order doesn't matter).  Two of these pairs are from real pions and 4 are combinatoric.  If you have 1000 events with 4 photons each, you have 2000 real photons and 4000 combinatoric pairs.  Some of those combinatoric pairs will have a mass near the pion mass and some will be far away.\n",
        "\n",
        "You will notice that the files contain different numbers of photons per event and this will change the ratio of pions to background pairs.  Histogram the mass distribution with an appropriate binning.  Make a plot of the mass distribution for each data set."
      ],
      "metadata": {
        "id": "BXGvq09R16Zq"
      }
    },
    {
      "cell_type": "markdown",
      "source": [
        "*Part 2* Look at the histograms.  If the mass of a photon pair is far from the pion mass, it probably didn't come from a pion.  However, if the mass is near the pion mass, either it came from a pion or it is a combinatoric pair.  Find a function to fit the invariant mass distribution.  What is the signal to background in the region of the pion mass (answering this question requires defining a region around the pion mass to calculate your signal; make sure you provide some justification for your definition)."
      ],
      "metadata": {
        "id": "oYBSHsesXCBt"
      }
    },
    {
      "cell_type": "markdown",
      "source": [
        "*Part 3* Find the number of pions in each of the histograms (making sure to remove the background).  How does the precision of the number of photons vary with the signal to background?  Explain what you find."
      ],
      "metadata": {
        "id": "WlAz-Or9Xvjy"
      }
    }
  ]
}