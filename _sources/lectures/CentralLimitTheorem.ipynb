{
  "nbformat": 4,
  "nbformat_minor": 0,
  "metadata": {
    "colab": {
      "provenance": []
    },
    "kernelspec": {
      "name": "python3",
      "display_name": "Python 3"
    },
    "language_info": {
      "name": "python"
    }
  },
  "cells": [
    {
      "cell_type": "markdown",
      "source": [
        "# Central Limit Theorem\n",
        "\n"
      ],
      "metadata": {
        "id": "B6B_lyUjRYb8"
      }
    },
    {
      "cell_type": "code",
      "execution_count": null,
      "metadata": {
        "id": "8Njk23mzlcoV"
      },
      "outputs": [],
      "source": [
        "import matplotlib.pyplot as plt\n",
        "import seaborn as sns; sns.set()\n",
        "import numpy as np\n",
        "import pandas as pd\n",
        "import scipy.stats"
      ]
    },
    {
      "cell_type": "markdown",
      "source": [
        "The [Central Limit Theorem]((https://en.wikipedia.org/wiki/Central_limit_theorem)) (CLT) is a fundamental concept in statistics that describes the behavior of the **sampling distribution** of the **sample mean** (or other sample statistics) of a random sample from any population, regardless of its underlying distribution.\n",
        "\n",
        "The Central Limit Theorem can be stated as follows:\n",
        "\n",
        "> When independent and identically distributed random variables are sampled from a population, the **distribution of the sample means** approaches a **normal distribution** as the **sample size increases**, regardless of the shape of the original population distribution.\n",
        "\n",
        "Another slightly less precise but more concise statement of the CLT is:\n",
        "> The mean (or sum) of samples drawn from any distribution tends toward a Gaussian distribution.\n",
        "\n",
        "A few key points about the CLT:\n",
        "- ___<span style=\"color:violet\">Independence</span>___: The random variables in the sample must be independent, meaning that the outcome of one observation does not affect the outcome of another.\n",
        "- ___<span style=\"color:violet\">Identical Distribution</span>___: Each random variable in the sample must be drawn from the same probability distribution.\n",
        "- ___<span style=\"color:violet\">Sample Size</span>___: As the sample size increases, the **sampling distribution** of the sample mean becomes increasingly closer to a normal distribution, with the mean of the sampling distribution equal to the population mean and a standard deviation (standard error) that depends on the population standard deviation and the square root of the sample size.\n",
        "\n",
        "The CLT is a crucial theorem in probability theory and statistics and has wide-ranging applications in data analysis. It allows us to make statistical inferences about a population based on the distribution of sample means, even when we don't know the exact nature of the population distribution. It provides the theoretical foundation for hypothesis testing, confidence intervals, and many other statistical techniques. It is also often used when dealing with large datasets, common in particle physics and astrophysics, as it allows us to assume that the distribution of sample means is approximately normal, simplifying many statistical analyses.\n",
        "\n"
      ],
      "metadata": {
        "id": "97xOLB39lmBu"
      }
    },
    {
      "cell_type": "markdown",
      "source": [
        "The following exercise provides a simple numerical demonstration of the CLT:"
      ],
      "metadata": {
        "id": "q1xF_hWyls7J"
      }
    },
    {
      "cell_type": "markdown",
      "source": [
        "__<span style=\"color:violet\">EXERCISE</span>___: Fill in the function below to generate `nsample` samples of size `size` from an arbitrary 1D continuous distribution, and then display an `sns.distplot` of the mean values of each generated sample:\n",
        "```\n",
        "def central_limit_demo(dist, nsample, size, seed=123):\n",
        "    gen = np.random.RandomState(seed=seed)\n",
        "    ...\n",
        "```\n",
        "Test your function using:\n",
        "```\n",
        "central_limit_demo(scipy.stats.uniform(scale=1), nsample=100, size=100)\n",
        "central_limit_demo(scipy.stats.lognorm(s=0.5), nsample=100, size=100)\n",
        "```"
      ],
      "metadata": {
        "id": "bsrN9mXwl4g0"
      }
    },
    {
      "cell_type": "code",
      "source": [
        "def central_limit_demo(dist, nsample, size, seed=123,verbose=False):\n",
        "    gen = np.random.RandomState(seed=seed)\n",
        "    means = []\n",
        "    full_data = []\n",
        "    for i in range(nsample):\n",
        "        data = dist.rvs(size=size, random_state=gen)\n",
        "        means.append(np.mean(data))\n",
        "        full_data.append(data)\n",
        "        if verbose:\n",
        "          print(data)\n",
        "    if verbose:\n",
        "      print(means)\n",
        "    fig, axs = plt.subplots(ncols=2)\n",
        "    sns.histplot(full_data,ax=axs[0],legend=False)\n",
        "    sns.histplot(means, kde=True, stat=\"density\", kde_kws=dict(cut=3),ax=axs[1])"
      ],
      "metadata": {
        "id": "9a7FDd3Xl3hj"
      },
      "execution_count": null,
      "outputs": []
    },
    {
      "cell_type": "markdown",
      "source": [
        "This code draws *size* samples from the distributions *nsample* times.  The left plot looks at each one of these samples individually and each one of those should resemble the distribution from which the distribution is drawn (in the case below this is a Uniform distribution).  Each one of these distributions is plotted in the left plot.\n",
        "\n",
        "Then we take the mean of each one of these separate sets of size *size*.  We will have *nsample* values of the mean.  These values are plotted in the right plot.\n",
        "\n",
        "For the uniform distribution over the range 0-1, we expect the mean of the sample to be 0.5.  The larger *size* is, the closer we expect each of the means to be to 0.5."
      ],
      "metadata": {
        "id": "5-kyEZH5szbs"
      }
    },
    {
      "cell_type": "code",
      "source": [
        "central_limit_demo(scipy.stats.uniform(scale=1), nsample=500, size=5, verbose=False)\n"
      ],
      "metadata": {
        "id": "UMaaoZ66l897"
      },
      "execution_count": null,
      "outputs": []
    },
    {
      "cell_type": "markdown",
      "source": [
        "The Central Limit Theorem tells us that as the number of samples becomes large, the distribution of the means becomes a Gaussian, regardless of the shape of the distribution drawn from.\n",
        "\n",
        "Not surprisingly, any measurement subject to multiple sources of fluctuations is likely to follow a distribution that can be approximated\n",
        "with a Gaussian distribution to a good approximation, regardless of the specific details of the processes\n",
        "at play.\n",
        "\n",
        "[Here](\\http://www.ltcconline.net/greenl/java/Statistics/clt/cltsimulation.html) is another CLT simulator (similar to what we have here)."
      ],
      "metadata": {
        "id": "ZAAzNfl5uqZM"
      }
    },
    {
      "cell_type": "markdown",
      "source": [
        "---\n",
        "## <span style=\"color:Orange\">Acknowledgments</span>\n",
        "\n",
        "* Initial version: Anne Sickles\n",
        "\n",
        "© Copyright 2024"
      ],
      "metadata": {
        "id": "3Es0qooHyNWE"
      }
    }
  ]
}