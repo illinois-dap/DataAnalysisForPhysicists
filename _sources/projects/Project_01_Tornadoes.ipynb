{
  "nbformat": 4,
  "nbformat_minor": 0,
  "metadata": {
    "colab": {
      "provenance": []
    },
    "kernelspec": {
      "name": "python3",
      "display_name": "Python 3"
    },
    "language_info": {
      "name": "python"
    }
  },
  "cells": [
    {
      "cell_type": "markdown",
      "source": [
        "# Tornadoes"
      ],
      "metadata": {
        "id": "QbjnSNnf5vxZ"
      }
    },
    {
      "cell_type": "markdown",
      "source": [
        "Tornadoes are a fixutre of the weather in the midwest.  In this project, we'll explore historical data on tornado frequency, intensity and location and try to understand that in the context of our changing climate."
      ],
      "metadata": {
        "id": "JfHzMcagZ5JQ"
      }
    },
    {
      "cell_type": "markdown",
      "source": [
        "Part 1\n",
        "\n",
        "What are tornadoes and why do they occur?  Provide a paragraph level description based in physics that goes beyond just the visual descriptions portrayed in movies."
      ],
      "metadata": {
        "id": "tl1st7avclQ_"
      }
    },
    {
      "cell_type": "code",
      "execution_count": null,
      "metadata": {
        "id": "je4YE73uvpaq"
      },
      "outputs": [],
      "source": [
        "%matplotlib inline\n",
        "import matplotlib.pyplot as plt\n",
        "import seaborn as sns; sns.set()\n",
        "import numpy as np\n",
        "import pandas as pd\n",
        "import os.path\n",
        "import subprocess\n",
        "%pip install basemap\n",
        "from mpl_toolkits.basemap import Basemap\n"
      ]
    },
    {
      "cell_type": "code",
      "source": [
        "def wget_data(url):\n",
        "    local_path='./tmp_data'\n",
        "    subprocess.run([\"wget\", \"-nc\", \"-P\", local_path, url])"
      ],
      "metadata": {
        "id": "lAkYXhCzv6sJ"
      },
      "execution_count": null,
      "outputs": []
    },
    {
      "cell_type": "code",
      "source": [
        "def locate_data(name, check_exists=True):\n",
        "    local_path='./tmp_data'\n",
        "    path = os.path.join(local_path, name)\n",
        "    if check_exists and not os.path.exists(path):\n",
        "        raise RuxntimeError('No such data file: {}'.format(path))\n",
        "    return path"
      ],
      "metadata": {
        "id": "4OWNjozlyArS"
      },
      "execution_count": null,
      "outputs": []
    },
    {
      "cell_type": "markdown",
      "source": [
        "In this project we'll use a NOAA dataset on tornadoes from 1950 to 2024.  The link to the description and the original dataset is provided but this code gets a copy that I've put on the course server (there should be no difference)."
      ],
      "metadata": {
        "id": "L7q6ciLvdG7I"
      }
    },
    {
      "cell_type": "code",
      "source": [
        "wget_data('https://courses.physics.illinois.edu/phys398dap/fa2025/data/1950-2024_all_tornadoes.csv')\n",
        "tornado_data = pd.read_csv(locate_data('1950-2024_all_tornadoes.csv'))\n",
        "#the fields of the dataset are described here: https://www.spc.noaa.gov/wcm/data/SPC_severe_database_description.pdf\n",
        "#original source of the dataset here: https://www.spc.noaa.gov/wcm/#data"
      ],
      "metadata": {
        "id": "kf6Woo41v97c"
      },
      "execution_count": null,
      "outputs": []
    },
    {
      "cell_type": "markdown",
      "source": [
        "Part 2 Tornado frequency and intensity\n",
        "\n",
        "With the dates and intensities of tornadoes, it's straightforward to answer to some basic questions:\n",
        "\n",
        "\n",
        "*   has the frequency of tornadoes changes in the years between 1950 and 2024?\n",
        "*   has the intensity of tornadoes changed over the same time period?\n",
        "*   when in the year do tornadoes most often occur?  has that changed with time?\n",
        "\n",
        "Support your answers to these questions with plots and analysis as appropriate.  Are any changes you find significant?  Support these claims with the tools we've covered in class.\n",
        "\n"
      ],
      "metadata": {
        "id": "JYL6ixK2dnZi"
      }
    },
    {
      "cell_type": "markdown",
      "source": [
        "Part 3\n",
        "\n",
        "How do your conclusions above compare with the research that is available?  (It's fine if you came to different conclusions; if you do, try to understand why that's the case--different data, different methods, something else?)."
      ],
      "metadata": {
        "id": "QiL_lL_re8Mr"
      }
    },
    {
      "cell_type": "markdown",
      "source": [
        "Part 4\n",
        "\n",
        "Like all weather, tornadoes don't occur isotropically throughout the country.  Python has some nice tools for visualizing locations on a map (one is basemap).  Using mapping libraries and the information in the dataset, can you make any conclusions about where tornadoes occur and whether that changes as a function of time. Support your conclusions with maps, plots and analyses drawing on the tools we've discussed in class.\n",
        "\n",
        "Again, compare your conclusions with those you find in journal articles."
      ],
      "metadata": {
        "id": "faCkfC6xflmG"
      }
    },
    {
      "cell_type": "markdown",
      "source": [
        "Part 5\n",
        "\n",
        "What can you say about the damage to people and property caused by tornadoes given the information in this dataset?  Support your conclusions with plots and analyses."
      ],
      "metadata": {
        "id": "8Bxj_yjUiGJU"
      }
    }
  ]
}
